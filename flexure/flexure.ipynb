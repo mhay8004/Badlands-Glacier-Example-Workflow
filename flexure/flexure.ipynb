{
 "cells": [
  {
   "cell_type": "markdown",
   "metadata": {
    "collapsed": true
   },
   "source": [
    "# Flexural isostasy\n",
    "\n",
    "For flexural isostasy, **Badlands** uses the [**gFlex**](https://github.com/awickert/gFlex) code. This package is designed to solve elastic plate flexure for applications to Earth's lithosphere. For an in-depth understanding of the functionalities of the package, you might want to look at:\n",
    "\n",
    "**Wickert, A. D.: [Open-source modular solutions for flexural isostasy: gFlex v1.0](http://www.geosci-model-dev.net/9/997/2016/gmd-9-997-2016-discussion.html), Geosci. Model Dev. Discuss., 8, 4245-4292, doi:10.5194/gmdd-8-4245-2015, 2015.**\n",
    "\n",
    "> **Badlands** is designed to compute induced flexural isostasy using **gFlex** 2D finite difference solutions for both constant and arbitrarily varying lithospheric elastic thickness structures. For Badlands, these solutions follow the work of _van Wees et al. (1994)_. In addition Badlands includes the range of implementable boundary conditions from **gFlex**.  \n",
    "\n",
    "_Range of geological loads from Badlands model which can induced flexural isostasy response (adapted from A. Wickert, 2015)._\n",
    "\n",
    "<div align=\"center\">\n",
    "    <img src=\"images/isostatic.png\" alt=\"flexural isostasy\" width=\"500\" height=\"800\"/>\n",
    "</div>\n",
    "\n",
    "In this example, we analyse the **flexural isostasy response** induced by sediment loading/unloading on a simple sine wave topography designed with 2 highs and a shallow depression in the middle which is under-water. We run 3 tests using a uniform precipitation rate and test the following 3 scenarios:\n",
    "- no flexural isostasy response,\n",
    "- flexural isostasy induced by an **uniform elastic thickness** over the entire region,\n",
    "- flexural isostasy induced by a **variable elastic thickness** grid (the grid was created using this [notebook](/edit/volume/Examples/flexure/elastic_map.xml). \n",
    "\n",
    "\n",
    "## Initial settings\n",
    "\n",
    "The initial grid has an approximate resolution of _1_ km and consists of a _250_ by _100_ km area with an elevation ranging from _-200_ to _800_ m. A constant sea-level is set to _-120_ m so that the central section of the model represents a shallow marine environment where eroded sediments are transported and deposited. \n",
    "\n",
    "We use the *stream power law sediment transport model* which scale the incision rate $E$ as a power function of surface water discharge $A$ and slope $S=\\nabla z$:\n",
    "\n",
    "$$ E = \\kappa A^m (\\nabla z)^n$$\n",
    "\n",
    "where $\\kappa$ is the erodibility coefficient dependent on lithology and mean precipitation rate, channel width, flood frequency, channel hydraulics.\n",
    "\n",
    "The values given to these parameters ($\\kappa$, $m$, $n$) are set in the **XmL** input file. \n",
    "\n",
    "\n",
    "## Starting badlands\n",
    "\n",
    "\n",
    "First we initialise the model and set the path to the **XmL** input file.\n",
    "\n",
    "\n",
    "> You can edit the **XmL** configuration file at [flexure.xml](crater.xml) by changing the url from:\n",
    "+ http://localhost:32771/files/share/.../flexure.xml to \n",
    "+ http://localhost:32771/edit/share/.../flexure.xml\n",
    "where `files` has been modified to `edit`. \n",
    "\n",
    "\n",
    "<div class=\"alert alert-block alert-success\">To view the complete <b>XmL</b> options you can look at the documentation: <a href=\"https://badlands.readthedocs.io/en/latest/xml.html\"><b>badlands readthedoc</b></a>.</div>\n",
    "\n",
    "\n",
    "The XmL file is set to run the first scenario (_i.e_ no flexural isostasy). To run the other 2, you will need to modify the XmL file by first uncommenting the **flexure** section and by using the **elasticH** parameter for the _uniform elastic thickness scenario_ then the **elasticGrid** parameter for the _variable elastic thickness scenario_."
   ]
  },
  {
   "cell_type": "code",
   "execution_count": 5,
   "metadata": {
    "scrolled": true
   },
   "outputs": [
    {
     "name": "stdout",
     "output_type": "stream",
     "text": [
      "Hey Matt!, this is the badlands-workspace instance. Now with glaciers!\n",
      "Glaciers Found\n",
      "hTerm file found:  data/gFlex_hTerm_retreat.csv\n",
      "hEla file found:  data/gFlex_hELA_retreat.csv\n",
      "KIce:  5e-08\n",
      "smth:  0.5\n",
      "ice_max:  250.0\n",
      "ice_spread:  85.0\n"
     ]
    }
   ],
   "source": [
    "from badlands.model import Model as badlandsModel\n",
    "\n",
    "# initialise model\n",
    "model = badlandsModel()\n",
    "# Define the XmL input file\n",
    "model.load_xml('flexure.xml')"
   ]
  },
  {
   "cell_type": "code",
   "execution_count": 6,
   "metadata": {},
   "outputs": [
    {
     "data": {
      "text/plain": [
       "587.6177490060915"
      ]
     },
     "execution_count": 6,
     "metadata": {},
     "output_type": "execute_result"
    }
   ],
   "source": [
    "model.elevation.min()"
   ]
  },
  {
   "cell_type": "code",
   "execution_count": 7,
   "metadata": {},
   "outputs": [
    {
     "data": {
      "text/plain": [
       "4370.808974092529"
      ]
     },
     "execution_count": 7,
     "metadata": {},
     "output_type": "execute_result"
    }
   ],
   "source": [
    "model.elevation.max()"
   ]
  },
  {
   "cell_type": "markdown",
   "metadata": {},
   "source": [
    "## Running badlands\n",
    "\n",
    "We can run the model for a given period. The end time in the **XmL** input file is set to _1 Ma_ but you might want to run the model for a coupled of iterations and check the output before running the model for the entire simulation time. \n",
    "\n",
    "This is done by putting the time in the `run_to_time` function. \n",
    "\n",
    "Here we go for the full time directly...  "
   ]
  },
  {
   "cell_type": "code",
   "execution_count": 8,
   "metadata": {
    "scrolled": false
   },
   "outputs": [
    {
     "name": "stdout",
     "output_type": "stream",
     "text": [
      "   - Writing outputs (0.26 seconds; tNow = 0.0)\n",
      "tNow = 4608.0 (step took 0.13 seconds)\n",
      "   - Compute flexural isostasy 37.85 seconds\n",
      "   - Writing outputs (1.24 seconds; tNow = 10000.0)\n",
      "tNow = 16656.0 (step took 0.11 seconds)\n",
      "   - Compute flexural isostasy 33.55 seconds\n",
      "   - Writing outputs (1.30 seconds; tNow = 20000.0)\n",
      "tNow = 25376.0 (step took 0.14 seconds)\n",
      "   - Compute flexural isostasy 33.08 seconds\n",
      "   - Writing outputs (1.44 seconds; tNow = 30000.0)\n",
      "tNow = 36272.0 (step took 0.10 seconds)\n",
      "   - Compute flexural isostasy 30.92 seconds\n",
      "   - Writing outputs (0.68 seconds; tNow = 40000.0)\n",
      "tNow = 45248.0 (step took 0.13 seconds)\n",
      "   - Compute flexural isostasy 33.68 seconds\n",
      "   - Writing outputs (1.16 seconds; tNow = 50000.0)\n",
      "tNow = 54992.0 (step took 0.12 seconds)\n",
      "tNow = 60000.0 (step took 0.09 seconds)\n",
      "   - Compute flexural isostasy 33.62 seconds\n",
      "   - Writing outputs (1.10 seconds; tNow = 60000.0)\n",
      "tNow = 64992.0 (step took 0.13 seconds)\n",
      "   - Compute flexural isostasy 37.55 seconds\n",
      "   - Writing outputs (1.35 seconds; tNow = 70000.0)\n",
      "tNow = 76272.0 (step took 0.11 seconds)\n",
      "   - Compute flexural isostasy 38.05 seconds\n",
      "   - Writing outputs (1.27 seconds; tNow = 80000.0)\n",
      "tNow = 85248.0 (step took 0.17 seconds)\n",
      "   - Compute flexural isostasy 33.86 seconds\n",
      "   - Writing outputs (1.23 seconds; tNow = 90000.0)\n",
      "tNow = 94224.0 (step took 0.16 seconds)\n",
      "tNow = 98704.0 (step took 0.15 seconds)\n",
      "   - Compute flexural isostasy 41.56 seconds\n",
      "   - Writing outputs (1.08 seconds; tNow = 100000.0)\n",
      "tNow = 104480.0 (step took 0.13 seconds)\n",
      "tNow = 109472.0 (step took 0.10 seconds)\n",
      "   - Compute flexural isostasy 60.76 seconds\n",
      "   - Writing outputs (1.44 seconds; tNow = 110000.0)\n",
      "tNow = 114352.0 (step took 0.14 seconds)\n",
      "tNow = 118192.0 (step took 0.24 seconds)\n",
      "   - Compute flexural isostasy 85.84 seconds\n",
      "   - Writing outputs (0.90 seconds; tNow = 120000.0)\n",
      "tNow = 124224.0 (step took 0.16 seconds)\n",
      "tNow = 128960.0 (step took 0.16 seconds)\n",
      "   - Compute flexural isostasy 33.06 seconds\n",
      "   - Writing outputs (1.25 seconds; tNow = 130000.0)\n",
      "tNow = 135504.0 (step took 0.13 seconds)\n",
      "   - Compute flexural isostasy 57.92 seconds\n",
      "   - Writing outputs (0.80 seconds; tNow = 140000.0)\n",
      "tNow = 144608.0 (step took 0.18 seconds)\n",
      "tNow = 149472.0 (step took 0.14 seconds)\n",
      "   - Compute flexural isostasy 52.18 seconds\n",
      "   - Writing outputs (0.68 seconds; tNow = 150000.0)\n",
      "tNow = 154352.0 (step took 0.18 seconds)\n",
      "tNow = 159216.0 (step took 0.16 seconds)\n",
      "   - Compute flexural isostasy 43.29 seconds\n",
      "   - Writing outputs (1.25 seconds; tNow = 160000.0)\n",
      "tNow = 164864.0 (step took 0.13 seconds)\n",
      "tNow = 169600.0 (step took 0.11 seconds)\n",
      "   - Compute flexural isostasy 38.20 seconds\n",
      "   - Writing outputs (1.15 seconds; tNow = 170000.0)\n",
      "tNow = 175248.0 (step took 0.11 seconds)\n",
      "tNow = 179472.0 (step took 0.14 seconds)\n"
     ]
    },
    {
     "ename": "KeyboardInterrupt",
     "evalue": "",
     "output_type": "error",
     "traceback": [
      "\u001b[0;31m---------------------------------------------------------------------------\u001b[0m",
      "\u001b[0;31mKeyboardInterrupt\u001b[0m                         Traceback (most recent call last)",
      "Cell \u001b[0;32mIn[8], line 1\u001b[0m\n\u001b[0;32m----> 1\u001b[0m \u001b[43mmodel\u001b[49m\u001b[38;5;241;43m.\u001b[39;49m\u001b[43mrun_to_time\u001b[49m\u001b[43m(\u001b[49m\u001b[38;5;241;43m1000000\u001b[39;49m\u001b[43m)\u001b[49m\n",
      "File \u001b[0;32m~/.local/lib/python3.8/site-packages/badlands/model.py:514\u001b[0m, in \u001b[0;36mModel.run_to_time\u001b[0;34m(self, tEnd, verbose)\u001b[0m\n\u001b[1;32m    509\u001b[0m ref_elev \u001b[38;5;241m=\u001b[39m buildMesh\u001b[38;5;241m.\u001b[39mget_reference_elevation(\n\u001b[1;32m    510\u001b[0m     \u001b[38;5;28mself\u001b[39m\u001b[38;5;241m.\u001b[39minput, \u001b[38;5;28mself\u001b[39m\u001b[38;5;241m.\u001b[39mrecGrid, \u001b[38;5;28mself\u001b[39m\u001b[38;5;241m.\u001b[39melevation\n\u001b[1;32m    511\u001b[0m )\n\u001b[1;32m    512\u001b[0m \u001b[38;5;28mself\u001b[39m\u001b[38;5;241m.\u001b[39mforce\u001b[38;5;241m.\u001b[39mgetSea(\u001b[38;5;28mself\u001b[39m\u001b[38;5;241m.\u001b[39mtNow, \u001b[38;5;28mself\u001b[39m\u001b[38;5;241m.\u001b[39minput\u001b[38;5;241m.\u001b[39mudw, ref_elev)\n\u001b[0;32m--> 514\u001b[0m \u001b[38;5;28mself\u001b[39m\u001b[38;5;241m.\u001b[39mtinFlex \u001b[38;5;241m=\u001b[39m \u001b[38;5;28;43mself\u001b[39;49m\u001b[38;5;241;43m.\u001b[39;49m\u001b[43mflex\u001b[49m\u001b[38;5;241;43m.\u001b[39;49m\u001b[43mget_flexure\u001b[49m\u001b[43m(\u001b[49m\n\u001b[1;32m    515\u001b[0m \u001b[43m    \u001b[49m\u001b[38;5;28;43mself\u001b[39;49m\u001b[38;5;241;43m.\u001b[39;49m\u001b[43melevation\u001b[49m\u001b[43m,\u001b[49m\n\u001b[1;32m    516\u001b[0m \u001b[43m    \u001b[49m\u001b[38;5;28;43mself\u001b[39;49m\u001b[38;5;241;43m.\u001b[39;49m\u001b[43mcumdiff\u001b[49m\u001b[43m,\u001b[49m\n\u001b[1;32m    517\u001b[0m \u001b[43m    \u001b[49m\u001b[38;5;28;43mself\u001b[39;49m\u001b[38;5;241;43m.\u001b[39;49m\u001b[43mforce\u001b[49m\u001b[38;5;241;43m.\u001b[39;49m\u001b[43msealevel\u001b[49m\u001b[43m,\u001b[49m\n\u001b[1;32m    518\u001b[0m \u001b[43m    \u001b[49m\u001b[38;5;28;43mself\u001b[39;49m\u001b[38;5;241;43m.\u001b[39;49m\u001b[43mflow\u001b[49m\u001b[38;5;241;43m.\u001b[39;49m\u001b[43miceTH\u001b[49m\u001b[43m,\u001b[49m\n\u001b[1;32m    519\u001b[0m \u001b[43m    \u001b[49m\u001b[38;5;28;43mself\u001b[39;49m\u001b[38;5;241;43m.\u001b[39;49m\u001b[43mrecGrid\u001b[49m\u001b[38;5;241;43m.\u001b[39;49m\u001b[43mboundsPt\u001b[49m\u001b[43m,\u001b[49m\n\u001b[1;32m    520\u001b[0m \u001b[43m    \u001b[49m\u001b[43minitFlex\u001b[49m\u001b[38;5;241;43m=\u001b[39;49m\u001b[38;5;28;43;01mFalse\u001b[39;49;00m\u001b[43m,\u001b[49m\n\u001b[1;32m    521\u001b[0m \u001b[43m\u001b[49m\u001b[43m)\u001b[49m\n\u001b[1;32m    522\u001b[0m \u001b[38;5;66;03m# Get border values\u001b[39;00m\n\u001b[1;32m    523\u001b[0m \u001b[38;5;28mself\u001b[39m\u001b[38;5;241m.\u001b[39mtinFlex \u001b[38;5;241m=\u001b[39m \u001b[38;5;28mself\u001b[39m\u001b[38;5;241m.\u001b[39mforce\u001b[38;5;241m.\u001b[39mdisp_border(\n\u001b[1;32m    524\u001b[0m     \u001b[38;5;28mself\u001b[39m\u001b[38;5;241m.\u001b[39mtinFlex,\n\u001b[1;32m    525\u001b[0m     \u001b[38;5;28mself\u001b[39m\u001b[38;5;241m.\u001b[39mFVmesh\u001b[38;5;241m.\u001b[39mneighbours,\n\u001b[1;32m    526\u001b[0m     \u001b[38;5;28mself\u001b[39m\u001b[38;5;241m.\u001b[39mFVmesh\u001b[38;5;241m.\u001b[39medge_length,\n\u001b[1;32m    527\u001b[0m     \u001b[38;5;28mself\u001b[39m\u001b[38;5;241m.\u001b[39mrecGrid\u001b[38;5;241m.\u001b[39mboundsPt,\n\u001b[1;32m    528\u001b[0m )\n",
      "File \u001b[0;32m~/.local/lib/python3.8/site-packages/badlands/forcing/isoFlex.py:290\u001b[0m, in \u001b[0;36misoFlex.get_flexure\u001b[0;34m(self, elev, cumdiff, sea, icethick, boundsPt, initFlex)\u001b[0m\n\u001b[1;32m    285\u001b[0m \u001b[38;5;28mself\u001b[39m\u001b[38;5;241m.\u001b[39mflex\u001b[38;5;241m.\u001b[39mqs \u001b[38;5;241m+\u001b[39m\u001b[38;5;241m=\u001b[39m (\n\u001b[1;32m    286\u001b[0m     \u001b[38;5;28mself\u001b[39m\u001b[38;5;241m.\u001b[39mrho_ice \u001b[38;5;241m*\u001b[39m \u001b[38;5;28mself\u001b[39m\u001b[38;5;241m.\u001b[39mflex\u001b[38;5;241m.\u001b[39mg \u001b[38;5;241m*\u001b[39m numpy\u001b[38;5;241m.\u001b[39mreshape(iceload, (\u001b[38;5;28mself\u001b[39m\u001b[38;5;241m.\u001b[39mny, \u001b[38;5;28mself\u001b[39m\u001b[38;5;241m.\u001b[39mnx))\n\u001b[1;32m    287\u001b[0m )\n\u001b[1;32m    289\u001b[0m \u001b[38;5;66;03m# Compute flexural isostasy with gFlex\u001b[39;00m\n\u001b[0;32m--> 290\u001b[0m \u001b[38;5;28;43mself\u001b[39;49m\u001b[38;5;241;43m.\u001b[39;49m\u001b[43m_compute_flexure\u001b[49m\u001b[43m(\u001b[49m\u001b[43m)\u001b[49m\n\u001b[1;32m    292\u001b[0m \u001b[38;5;66;03m# Reinterpolate values on TIN, record new flexural values and compute\u001b[39;00m\n\u001b[1;32m    293\u001b[0m \u001b[38;5;66;03m# cumulative flexural values\u001b[39;00m\n\u001b[1;32m    294\u001b[0m \u001b[38;5;28;01mif\u001b[39;00m initFlex:\n",
      "File \u001b[0;32m~/.local/lib/python3.8/site-packages/badlands/forcing/isoFlex.py:211\u001b[0m, in \u001b[0;36misoFlex._compute_flexure\u001b[0;34m(self)\u001b[0m\n\u001b[1;32m    207\u001b[0m     \u001b[38;5;28mself\u001b[39m\u001b[38;5;241m.\u001b[39mflex\u001b[38;5;241m.\u001b[39mTe \u001b[38;5;241m=\u001b[39m coeff \u001b[38;5;241m*\u001b[39m numpy\u001b[38;5;241m.\u001b[39mones((\u001b[38;5;28mself\u001b[39m\u001b[38;5;241m.\u001b[39mny, \u001b[38;5;28mself\u001b[39m\u001b[38;5;241m.\u001b[39mnx)) \u001b[38;5;241m+\u001b[39m \u001b[38;5;28mself\u001b[39m\u001b[38;5;241m.\u001b[39mTe\n\u001b[1;32m    209\u001b[0m \u001b[38;5;28mself\u001b[39m\u001b[38;5;241m.\u001b[39mflex\u001b[38;5;241m.\u001b[39minitialize()\n\u001b[0;32m--> 211\u001b[0m \u001b[38;5;28;43mself\u001b[39;49m\u001b[38;5;241;43m.\u001b[39;49m\u001b[43mflex\u001b[49m\u001b[38;5;241;43m.\u001b[39;49m\u001b[43mrun\u001b[49m\u001b[43m(\u001b[49m\u001b[43m)\u001b[49m\n\u001b[1;32m    213\u001b[0m \u001b[38;5;28mself\u001b[39m\u001b[38;5;241m.\u001b[39mflex\u001b[38;5;241m.\u001b[39mfinalize()\n\u001b[1;32m    215\u001b[0m \u001b[38;5;28;01mreturn\u001b[39;00m\n",
      "File \u001b[0;32m/opt/anaconda3/envs/badlands-workshop/lib/python3.8/site-packages/gflex/f2d.py:59\u001b[0m, in \u001b[0;36mF2D.run\u001b[0;34m(self)\u001b[0m\n\u001b[1;32m     56\u001b[0m   sys\u001b[38;5;241m.\u001b[39mexit(\u001b[38;5;124m'\u001b[39m\u001b[38;5;124mError: method must be \u001b[39m\u001b[38;5;124m\"\u001b[39m\u001b[38;5;124mFD\u001b[39m\u001b[38;5;124m\"\u001b[39m\u001b[38;5;124m, \u001b[39m\u001b[38;5;124m\"\u001b[39m\u001b[38;5;124mFFT\u001b[39m\u001b[38;5;124m\"\u001b[39m\u001b[38;5;124m, \u001b[39m\u001b[38;5;124m\"\u001b[39m\u001b[38;5;124mSAS\u001b[39m\u001b[38;5;124m\"\u001b[39m\u001b[38;5;124m, or \u001b[39m\u001b[38;5;124m\"\u001b[39m\u001b[38;5;124mSAS_NG\u001b[39m\u001b[38;5;124m\"\u001b[39m\u001b[38;5;124m'\u001b[39m)\n\u001b[1;32m     58\u001b[0m \u001b[38;5;28;01mif\u001b[39;00m \u001b[38;5;28mself\u001b[39m\u001b[38;5;241m.\u001b[39mVerbose: \u001b[38;5;28mprint\u001b[39m(\u001b[38;5;124m\"\u001b[39m\u001b[38;5;124mF2D run\u001b[39m\u001b[38;5;124m\"\u001b[39m)\n\u001b[0;32m---> 59\u001b[0m \u001b[38;5;28;43mself\u001b[39;49m\u001b[38;5;241;43m.\u001b[39;49m\u001b[43mmethod_func\u001b[49m\u001b[43m(\u001b[49m\u001b[43m)\u001b[49m\n\u001b[1;32m     61\u001b[0m \u001b[38;5;28mself\u001b[39m\u001b[38;5;241m.\u001b[39mtime_to_solve \u001b[38;5;241m=\u001b[39m time\u001b[38;5;241m.\u001b[39mtime() \u001b[38;5;241m-\u001b[39m \u001b[38;5;28mself\u001b[39m\u001b[38;5;241m.\u001b[39msolver_start_time\n\u001b[1;32m     62\u001b[0m \u001b[38;5;28;01mif\u001b[39;00m \u001b[38;5;28mself\u001b[39m\u001b[38;5;241m.\u001b[39mQuiet \u001b[38;5;241m==\u001b[39m \u001b[38;5;28;01mFalse\u001b[39;00m:\n",
      "File \u001b[0;32m/opt/anaconda3/envs/badlands-workshop/lib/python3.8/site-packages/gflex/f2d.py:87\u001b[0m, in \u001b[0;36mF2D.FD\u001b[0;34m(self)\u001b[0m\n\u001b[1;32m     85\u001b[0m   \u001b[38;5;28mself\u001b[39m\u001b[38;5;241m.\u001b[39melasprep()\n\u001b[1;32m     86\u001b[0m   \u001b[38;5;28mself\u001b[39m\u001b[38;5;241m.\u001b[39mBC_selector_and_coeff_matrix_creator()\n\u001b[0;32m---> 87\u001b[0m \u001b[38;5;28;43mself\u001b[39;49m\u001b[38;5;241;43m.\u001b[39;49m\u001b[43mfd_solve\u001b[49m\u001b[43m(\u001b[49m\u001b[43m)\u001b[49m\n",
      "File \u001b[0;32m/opt/anaconda3/envs/badlands-workshop/lib/python3.8/site-packages/gflex/f2d.py:1552\u001b[0m, in \u001b[0;36mF2D.fd_solve\u001b[0;34m(self)\u001b[0m\n\u001b[1;32m   1550\u001b[0m       \u001b[38;5;28mprint\u001b[39m(\u001b[38;5;124m\"\u001b[39m\u001b[38;5;124mSolution type not understood:\u001b[39m\u001b[38;5;124m\"\u001b[39m)\n\u001b[1;32m   1551\u001b[0m       \u001b[38;5;28mprint\u001b[39m(\u001b[38;5;124m\"\u001b[39m\u001b[38;5;124mDefaulting to direct solution with UMFpack\u001b[39m\u001b[38;5;124m\"\u001b[39m)\n\u001b[0;32m-> 1552\u001b[0m   wvector \u001b[38;5;241m=\u001b[39m \u001b[43mscipy\u001b[49m\u001b[38;5;241;43m.\u001b[39;49m\u001b[43msparse\u001b[49m\u001b[38;5;241;43m.\u001b[39;49m\u001b[43mlinalg\u001b[49m\u001b[38;5;241;43m.\u001b[39;49m\u001b[43mspsolve\u001b[49m\u001b[43m(\u001b[49m\u001b[38;5;28;43mself\u001b[39;49m\u001b[38;5;241;43m.\u001b[39;49m\u001b[43mcoeff_matrix\u001b[49m\u001b[43m,\u001b[49m\u001b[43m \u001b[49m\u001b[43mq0vector\u001b[49m\u001b[43m,\u001b[49m\u001b[43m \u001b[49m\u001b[43muse_umfpack\u001b[49m\u001b[38;5;241;43m=\u001b[39;49m\u001b[38;5;28;43;01mTrue\u001b[39;49;00m\u001b[43m)\u001b[49m\n\u001b[1;32m   1554\u001b[0m \u001b[38;5;66;03m# Reshape into grid\u001b[39;00m\n\u001b[1;32m   1555\u001b[0m \u001b[38;5;28mself\u001b[39m\u001b[38;5;241m.\u001b[39mw \u001b[38;5;241m=\u001b[39m \u001b[38;5;241m-\u001b[39mwvector\u001b[38;5;241m.\u001b[39mreshape(\u001b[38;5;28mself\u001b[39m\u001b[38;5;241m.\u001b[39mqs\u001b[38;5;241m.\u001b[39mshape)\n",
      "File \u001b[0;32m/opt/anaconda3/envs/badlands-workshop/lib/python3.8/site-packages/scipy/sparse/linalg/_dsolve/linsolve.py:273\u001b[0m, in \u001b[0;36mspsolve\u001b[0;34m(A, b, permc_spec, use_umfpack)\u001b[0m\n\u001b[1;32m    270\u001b[0m     flag \u001b[38;5;241m=\u001b[39m \u001b[38;5;241m0\u001b[39m  \u001b[38;5;66;03m# CSR format\u001b[39;00m\n\u001b[1;32m    272\u001b[0m options \u001b[38;5;241m=\u001b[39m \u001b[38;5;28mdict\u001b[39m(ColPerm\u001b[38;5;241m=\u001b[39mpermc_spec)\n\u001b[0;32m--> 273\u001b[0m x, info \u001b[38;5;241m=\u001b[39m \u001b[43m_superlu\u001b[49m\u001b[38;5;241;43m.\u001b[39;49m\u001b[43mgssv\u001b[49m\u001b[43m(\u001b[49m\u001b[43mN\u001b[49m\u001b[43m,\u001b[49m\u001b[43m \u001b[49m\u001b[43mA\u001b[49m\u001b[38;5;241;43m.\u001b[39;49m\u001b[43mnnz\u001b[49m\u001b[43m,\u001b[49m\u001b[43m \u001b[49m\u001b[43mA\u001b[49m\u001b[38;5;241;43m.\u001b[39;49m\u001b[43mdata\u001b[49m\u001b[43m,\u001b[49m\u001b[43m \u001b[49m\u001b[43mA\u001b[49m\u001b[38;5;241;43m.\u001b[39;49m\u001b[43mindices\u001b[49m\u001b[43m,\u001b[49m\u001b[43m \u001b[49m\u001b[43mA\u001b[49m\u001b[38;5;241;43m.\u001b[39;49m\u001b[43mindptr\u001b[49m\u001b[43m,\u001b[49m\n\u001b[1;32m    274\u001b[0m \u001b[43m                        \u001b[49m\u001b[43mb\u001b[49m\u001b[43m,\u001b[49m\u001b[43m \u001b[49m\u001b[43mflag\u001b[49m\u001b[43m,\u001b[49m\u001b[43m \u001b[49m\u001b[43moptions\u001b[49m\u001b[38;5;241;43m=\u001b[39;49m\u001b[43moptions\u001b[49m\u001b[43m)\u001b[49m\n\u001b[1;32m    275\u001b[0m \u001b[38;5;28;01mif\u001b[39;00m info \u001b[38;5;241m!=\u001b[39m \u001b[38;5;241m0\u001b[39m:\n\u001b[1;32m    276\u001b[0m     warn(\u001b[38;5;124m\"\u001b[39m\u001b[38;5;124mMatrix is exactly singular\u001b[39m\u001b[38;5;124m\"\u001b[39m, MatrixRankWarning)\n",
      "\u001b[0;31mKeyboardInterrupt\u001b[0m: "
     ]
    }
   ],
   "source": [
    "model.run_to_time(1000000)"
   ]
  },
  {
   "cell_type": "markdown",
   "metadata": {},
   "source": [
    "# Visualise in Paraview\n",
    "\n",
    "For an in-depth visualisation of the model output it is recommended to install on your local machine a visualisation package such as [Paraview](http://www.paraview.org) or [Visit](https://wci.llnl.gov/simulation/computer-codes/visit/).\n",
    "\n",
    "**Badlands** outputs are created in the directory you've specified in your **XmL** input file. In cases where you have ran several instances of the same input you will end up with multiple directories with the same name followed with the simulation number.\n",
    "\n",
    "The folder contains xdmf series files:\n",
    "+ **tin.series.xdmf** which will display the time series of surface evolution.\n",
    "+ **flow.series.xdmf** which will display the time series of drainage network evolution.\n",
    "\n",
    "\n",
    "### Elevation change\n",
    "\n",
    "\n",
    "| Time step 25| Time step 50 | \n",
    "| :-------------: |:-------------:|\n",
    "| <img src=\"images/step25.png\" alt=\"Step 25\" width=\"490\" height=\"400\" border=\"5\" />| <img src=\"images/step50.png\" alt=\"Step 50\" width=\"490\" height=\"400\" border=\"5\" /> | \n",
    "\n",
    "\n",
    "\n",
    "### Cumulative flexural isostasy\n",
    "\n",
    "<div align=\"center\">\n",
    "    <img src=\"images/flex.png\" alt=\"flexural isostasy\" width=\"1000\" height=\"800\"/>\n",
    "</div>"
   ]
  },
  {
   "cell_type": "code",
   "execution_count": null,
   "metadata": {},
   "outputs": [],
   "source": []
  },
  {
   "cell_type": "code",
   "execution_count": null,
   "metadata": {},
   "outputs": [],
   "source": []
  }
 ],
 "metadata": {
  "kernelspec": {
   "display_name": "Python 3 (ipykernel)",
   "language": "python",
   "name": "python3"
  },
  "language_info": {
   "codemirror_mode": {
    "name": "ipython",
    "version": 3
   },
   "file_extension": ".py",
   "mimetype": "text/x-python",
   "name": "python",
   "nbconvert_exporter": "python",
   "pygments_lexer": "ipython3",
   "version": "3.8.18"
  }
 },
 "nbformat": 4,
 "nbformat_minor": 1
}
